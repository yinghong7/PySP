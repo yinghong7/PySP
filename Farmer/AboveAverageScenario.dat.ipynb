{
 "cells": [
  {
   "cell_type": "code",
   "execution_count": null,
   "metadata": {
    "collapsed": true
   },
   "outputs": [],
   "source": [
    "# above mean scenario\n",
    "\n",
    "set CROPS := WHEAT CORN SUGAR_BEETS ;\n",
    "\n",
    "param TOTAL_ACREAGE := 500 ;\n",
    "\n",
    "# no quotas on wheat or corn\n",
    "param PriceQuota := WHEAT 100000 CORN 100000 SUGAR_BEETS 6000 ;\n",
    "\n",
    "param SubQuotaSellingPrice := WHEAT 170 CORN 150 SUGAR_BEETS 36 ;\n",
    "\n",
    "param SuperQuotaSellingPrice := WHEAT 0 CORN 0 SUGAR_BEETS 10 ;\n",
    "\n",
    "param CattleFeedRequirement := WHEAT 200 CORN 240 SUGAR_BEETS 0 ;\n",
    "\n",
    "# can't purchase beets (no real need, as cattle don't eat them)\n",
    "param PurchasePrice := WHEAT 238 CORN 210 SUGAR_BEETS 100000 ;\n",
    "\n",
    "param PlantingCostPerAcre := WHEAT 150 CORN 230 SUGAR_BEETS 260 ;\n",
    "\n",
    "param Yield := WHEAT 3.0 CORN 3.6 SUGAR_BEETS 24 ;\n"
   ]
  }
 ],
 "metadata": {
  "kernelspec": {
   "display_name": "Python 3",
   "language": "python",
   "name": "python3"
  },
  "language_info": {
   "codemirror_mode": {
    "name": "ipython",
    "version": 3
   },
   "file_extension": ".py",
   "mimetype": "text/x-python",
   "name": "python",
   "nbconvert_exporter": "python",
   "pygments_lexer": "ipython3",
   "version": "3.6.2"
  }
 },
 "nbformat": 4,
 "nbformat_minor": 2
}
